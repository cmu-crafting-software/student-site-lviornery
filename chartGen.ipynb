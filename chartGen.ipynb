{
 "cells": [
  {
   "cell_type": "code",
   "execution_count": 1,
   "id": "ee36d020-9d94-4491-82eb-22538129a5db",
   "metadata": {},
   "outputs": [],
   "source": [
    "import altair as alt\n",
    "from vega_datasets import data\n",
    "\n",
    "source = data.unemployment_across_industries.url\n",
    "\n",
    "chart = alt.Chart(source).mark_area().encode(\n",
    "    alt.X('yearmonth(date):T',\n",
    "        axis=alt.Axis(format='%Y', domain=False, tickSize=0)\n",
    "    ),\n",
    "    alt.Y('sum(count):Q', stack='center', axis=None),\n",
    "    alt.Color('series:N',\n",
    "        scale=alt.Scale(scheme='category20b')\n",
    "    )\n",
    ").interactive()\n",
    "\n",
    "chart.save('chart.html')"
   ]
  },
  {
   "cell_type": "code",
   "execution_count": null,
   "id": "f67b5a1d-0bdb-4897-912a-ce5d8d22bd49",
   "metadata": {},
   "outputs": [],
   "source": []
  }
 ],
 "metadata": {
  "kernelspec": {
   "display_name": "Python 3 (ipykernel)",
   "language": "python",
   "name": "python3"
  },
  "language_info": {
   "codemirror_mode": {
    "name": "ipython",
    "version": 3
   },
   "file_extension": ".py",
   "mimetype": "text/x-python",
   "name": "python",
   "nbconvert_exporter": "python",
   "pygments_lexer": "ipython3",
   "version": "3.8.10"
  }
 },
 "nbformat": 4,
 "nbformat_minor": 5
}
